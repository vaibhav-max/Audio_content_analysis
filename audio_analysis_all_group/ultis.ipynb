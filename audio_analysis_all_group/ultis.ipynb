{
 "cells": [
  {
   "cell_type": "code",
   "execution_count": null,
   "metadata": {},
   "outputs": [],
   "source": []
  },
  {
   "cell_type": "markdown",
   "metadata": {},
   "source": [
    "# calculate the trancription of all the audio files in the dataset"
   ]
  },
  {
   "cell_type": "markdown",
   "metadata": {},
   "source": [
    "## with batch"
   ]
  },
  {
   "cell_type": "code",
   "execution_count": null,
   "metadata": {},
   "outputs": [],
   "source": [
    "import pandas as pd\n",
    "import os\n",
    "from transformers import Wav2Vec2Processor, Wav2Vec2ForCTC\n",
    "import torch\n",
    "import librosa\n",
    "import numpy as np\n",
    "from tqdm import tqdm  # Progress bar\n",
    "\n",
    "# Load model and processor\n",
    "processor = Wav2Vec2Processor.from_pretrained(\"facebook/wav2vec2-base-960h\")\n",
    "model = Wav2Vec2ForCTC.from_pretrained(\"facebook/wav2vec2-base-960h\")\n",
    "\n",
    "# Check for multiple GPUs\n",
    "device_ids = list(range(torch.cuda.device_count()))  # List of GPU ids\n",
    "device = torch.device('cuda' if torch.cuda.is_available() else 'cpu')\n",
    "\n",
    "# Wrap the model with DataParallel\n",
    "model = torch.nn.DataParallel(model, device_ids=device_ids)\n",
    "model.to(device)\n",
    "\n",
    "root_folders = ['/data/Vaani/Dataset/Audios_all_district_vaani_3']\n",
    "\n",
    "# Function to get transcriptions for a batch of files\n",
    "def get_transcriptions(file_paths):\n",
    "    input_values_list = []\n",
    "    file_path_map = {}\n",
    "    \n",
    "    for file_path in file_paths:\n",
    "        if os.path.exists(file_path):\n",
    "            audio, sr = librosa.load(file_path, sr=None)\n",
    "            input_values = processor(audio, return_tensors=\"pt\", padding=\"longest\", sampling_rate=sr).input_values\n",
    "            input_values_list.append(input_values)\n",
    "            file_path_map[input_values_list[-1]] = file_path\n",
    "    \n",
    "    # Pad the sequences to the same length\n",
    "    max_length = max(input_values.size(1) for input_values in input_values_list)\n",
    "    padded_inputs = torch.zeros((len(input_values_list), max_length))\n",
    "    \n",
    "    for i, input_values in enumerate(input_values_list):\n",
    "        padded_inputs[i, :input_values.size(1)] = input_values.squeeze()\n",
    "\n",
    "    input_values_batch = padded_inputs.to(device)\n",
    "\n",
    "    with torch.no_grad():  # Disable gradient calculations\n",
    "        logits = model(input_values_batch).logits\n",
    "\n",
    "    predicted_ids = torch.argmax(logits, dim=-1)\n",
    "    transcriptions = processor.batch_decode(predicted_ids)\n",
    "    \n",
    "    # Map file paths to transcriptions\n",
    "    return dict(zip(file_path_map.values(), transcriptions))\n",
    "\n",
    "batch_size = 64\n",
    "file_paths = []\n",
    "\n",
    "# Create lists to store file information\n",
    "file_data = {\n",
    "    \"File Name\": [],\n",
    "    \"Duration\": [],\n",
    "    \"Byte Size\": [],\n",
    "    \"Transcription\": []\n",
    "}\n",
    "\n",
    "# Process each folder and display progress with tqdm\n",
    "for root_folder in root_folders:\n",
    "    for subdir, _, files in os.walk(root_folder):\n",
    "        print(f\"Processing directory: {subdir}\")\n",
    "        files.sort()\n",
    "        \n",
    "        # Use tqdm for the files loop to track progress\n",
    "        for audio_file in tqdm(files, desc=f\"Processing files in {subdir}\"):\n",
    "            if audio_file.endswith('.wav'):\n",
    "                audio_file_path = os.path.join(subdir, audio_file)\n",
    "                file_paths.append(audio_file_path)\n",
    "                \n",
    "                # Get file information\n",
    "                duration = librosa.get_duration(filename=audio_file_path)\n",
    "                byte_size = os.path.getsize(audio_file_path)\n",
    "                \n",
    "                file_data[\"File Name\"].append(audio_file_path)\n",
    "                file_data[\"Duration\"].append(duration)\n",
    "                file_data[\"Byte Size\"].append(byte_size)\n",
    "                \n",
    "                # Process in batches\n",
    "                if len(file_paths) >= batch_size:\n",
    "                    transcriptions = get_transcriptions(file_paths[:batch_size])\n",
    "                    for file, transcription in transcriptions.items():\n",
    "                        file_data[\"Transcription\"].append(transcription)\n",
    "                    file_paths = file_paths[batch_size:]\n",
    "\n",
    "# Process remaining files if they don't fit exactly into the batch size\n",
    "if file_paths:\n",
    "    transcriptions = get_transcriptions(file_paths)\n",
    "    for file, transcription in transcriptions.items():\n",
    "        file_data[\"Transcription\"].append(transcription)\n",
    "\n",
    "# Create DataFrame from collected data\n",
    "df = pd.DataFrame(file_data)\n",
    "\n",
    "# Save the DataFrame to a CSV file\n",
    "output_csv_path = \"/data/Root_content/Vaani/audio_content_analysis/audio_analysis_all_group/temp.csv\"\n",
    "df.to_csv(output_csv_path, index=False)\n",
    "\n",
    "print(f\"CSV file saved to {output_csv_path}\")\n"
   ]
  },
  {
   "cell_type": "markdown",
   "metadata": {},
   "source": [
    "## without batch"
   ]
  },
  {
   "cell_type": "code",
   "execution_count": null,
   "metadata": {},
   "outputs": [],
   "source": [
    "import pandas as pd\n",
    "import os\n",
    "from transformers import Wav2Vec2Processor, Wav2Vec2ForCTC\n",
    "import torch\n",
    "import librosa\n",
    "import numpy as np\n",
    "from tqdm import tqdm  # Progress bar\n",
    "\n",
    "# Load model and processor\n",
    "processor = Wav2Vec2Processor.from_pretrained(\"facebook/wav2vec2-base-960h\")\n",
    "model = Wav2Vec2ForCTC.from_pretrained(\"facebook/wav2vec2-base-960h\")\n",
    "\n",
    "# Check for multiple GPUs\n",
    "device_ids = list(range(torch.cuda.device_count()))  # List of GPU ids\n",
    "device = torch.device('cuda' if torch.cuda.is_available() else 'cpu')\n",
    "\n",
    "# # Wrap the model with DataParallel if using multiple GPUs\n",
    "model = torch.nn.DataParallel(model, device_ids=device_ids)\n",
    "model.to(device)\n",
    "\n",
    "root_folders = ['/data/Vaani/Dataset/Audios_all_district_vaani_3']\n",
    "\n",
    "# Function to get transcription for a single file\n",
    "def get_transcription(file_path):\n",
    "    if os.path.exists(file_path):\n",
    "        audio, sr = librosa.load(file_path, sr=None)\n",
    "        input_values = processor(audio, return_tensors=\"pt\", padding=\"longest\", sampling_rate=sr).input_values.to(device)\n",
    "\n",
    "        with torch.no_grad():  # Disable gradient calculations\n",
    "            logits = model(input_values).logits\n",
    "\n",
    "        predicted_ids = torch.argmax(logits, dim=-1)\n",
    "        transcription = processor.batch_decode(predicted_ids)[0]\n",
    "        return transcription\n",
    "    \n",
    "    return None\n",
    "\n",
    "# Create lists to store file information\n",
    "file_data = {\n",
    "    \"File Name\": [],\n",
    "    \"Duration\": [],\n",
    "    \"Byte Size\": [],\n",
    "    \"Transcription\": []\n",
    "}\n",
    "\n",
    "# Process each folder and display progress with tqdm\n",
    "for root_folder in root_folders:\n",
    "    for subdir, _, files in os.walk(root_folder):\n",
    "        print(f\"Processing directory: {subdir}\")\n",
    "        files.sort()\n",
    "        \n",
    "        # Use tqdm for the files loop to track progress\n",
    "        for audio_file in tqdm(files, desc=f\"Processing files in {subdir}\"):\n",
    "            if audio_file.endswith('.wav'):\n",
    "                audio_file_path = os.path.join(subdir, audio_file)\n",
    "\n",
    "                # Get file information\n",
    "                duration = librosa.get_duration(filename=audio_file_path)\n",
    "                byte_size = os.path.getsize(audio_file_path)\n",
    "\n",
    "                # Get transcription\n",
    "                transcription = get_transcription(audio_file_path)\n",
    "\n",
    "                # Append file info to the data\n",
    "                file_data[\"File Name\"].append(audio_file_path)\n",
    "                file_data[\"Duration\"].append(duration)\n",
    "                file_data[\"Byte Size\"].append(byte_size)\n",
    "                file_data[\"Transcription\"].append(transcription)\n",
    "\n",
    "# Create DataFrame from collected data\n",
    "df = pd.DataFrame(file_data)\n",
    "\n",
    "# Save the DataFrame to a CSV file\n",
    "output_csv_path = \"/data/Root_content/Vaani/audio_content_analysis/audio_analysis_all_group/temp.csv\"\n",
    "df.to_csv(output_csv_path, index=False)\n",
    "\n",
    "print(f\"CSV file saved to {output_csv_path}\")\n"
   ]
  },
  {
   "cell_type": "markdown",
   "metadata": {},
   "source": [
    "# concatenate all the csv file"
   ]
  },
  {
   "cell_type": "code",
   "execution_count": 1,
   "metadata": {},
   "outputs": [
    {
     "name": "stdout",
     "output_type": "stream",
     "text": [
      "CSV files concatenated successfully!\n"
     ]
    }
   ],
   "source": [
    "import pandas as pd\n",
    "import os\n",
    "\n",
    "# List of CSV file paths\n",
    "csv_files = [\"/data/Root_content/Vaani/audio_content_analysis/audio_analysis_all_group/audio_transcription_csv/audio_trancription_without_batching_1.csv\", \n",
    "             \"/data/Root_content/Vaani/audio_content_analysis/audio_analysis_all_group/audio_transcription_csv/audio_trancription_without_batching_2.csv\", \n",
    "             \"/data/Root_content/Vaani/audio_content_analysis/audio_analysis_all_group/audio_transcription_csv/audio_trancription_without_batching_3.csv\", \n",
    "             \"/data/Root_content/Vaani/audio_content_analysis/audio_analysis_all_group/audio_transcription_csv/audio_trancription_without_batching_4.csv\", \n",
    "             \"/data/Root_content/Vaani/audio_content_analysis/audio_analysis_all_group/audio_transcription_csv/audio_trancription_without_batching_5.csv\", \n",
    "             \"/data/Root_content/Vaani/audio_content_analysis/audio_analysis_all_group/audio_transcription_csv/audio_trancription_without_batching_6.csv\"]\n",
    "\n",
    "# Read and concatenate all CSV files into one DataFrame\n",
    "combined_df = pd.concat([pd.read_csv(file) for file in csv_files])\n",
    "\n",
    "# Save the combined DataFrame to a new CSV file\n",
    "combined_df.to_csv(\"audio_trancription_without_batching_all.csv\", index=False)\n",
    "\n",
    "print(\"CSV files concatenated successfully!\")\n"
   ]
  },
  {
   "cell_type": "markdown",
   "metadata": {},
   "source": [
    "# convert the filename to link"
   ]
  },
  {
   "cell_type": "code",
   "execution_count": 2,
   "metadata": {},
   "outputs": [
    {
     "name": "stdout",
     "output_type": "stream",
     "text": [
      "Converted file saved to /data/Root_content/Vaani/audio_content_analysis/audio_analysis_all_group/audio_link_trancription_without_batching_all.csv\n"
     ]
    }
   ],
   "source": [
    "import pandas as pd\n",
    "\n",
    "# Load the CSV file\n",
    "csv_file = '/data/Root_content/Vaani/audio_content_analysis/audio_analysis_all_group/audio_transcription_csv/audio_trancription_without_batching_all.csv'  # Replace with the path to your actual CSV file\n",
    "df = pd.read_csv(csv_file)\n",
    "\n",
    "# Function to convert filename\n",
    "def convert_filename(filename):\n",
    "    base_name = filename.split(\"/\")[-1]\n",
    "    new_filename = \"https://vaani.iisc.ac.in/Audios/\" + base_name.split('_')[4] + \"/\" + base_name\n",
    "    return new_filename\n",
    "\n",
    "# Replace the 'File Name' column with the converted filenames\n",
    "df['File Name'] = df['File Name'].apply(convert_filename)\n",
    "\n",
    "# Save the modified DataFrame to a new CSV file\n",
    "output_csv = '/data/Root_content/Vaani/audio_content_analysis/audio_analysis_all_group/audio_link_trancription_without_batching_all.csv'  # Replace with the desired output file path\n",
    "df.to_csv(output_csv, index=False)\n",
    "\n",
    "print(f\"Converted file saved to {output_csv}\")"
   ]
  },
  {
   "cell_type": "code",
   "execution_count": 4,
   "metadata": {},
   "outputs": [
    {
     "name": "stdout",
     "output_type": "stream",
     "text": [
      "https://vaani.iisc.ac.in/Audios/Sukma/IISc_VaaniProject_S_Chhattisgarh_Sukma_114191_12208498_APCTFLM_226630_7402_11502.wav\n"
     ]
    }
   ],
   "source": [
    "print(df['File Name'][0])"
   ]
  },
  {
   "cell_type": "markdown",
   "metadata": {},
   "source": [
    "# remove the duplicate filenames"
   ]
  },
  {
   "cell_type": "code",
   "execution_count": 5,
   "metadata": {},
   "outputs": [
    {
     "name": "stdout",
     "output_type": "stream",
     "text": [
      "Cleaned CSV file saved to: /data/Root_content/Vaani/audio_content_analysis/audio_analysis_all_group/audio_link_trancription_without_batching_all_removed_duplicates.csv\n"
     ]
    }
   ],
   "source": [
    "import pandas as pd\n",
    "\n",
    "# Load the CSV file\n",
    "csv_file_path = \"/data/Root_content/Vaani/audio_content_analysis/audio_analysis_all_group/audio_transcription_csv/audio_link_trancription_without_batching_all.csv\"  # Update with the actual path\n",
    "df = pd.read_csv(csv_file_path)\n",
    "\n",
    "# Remove duplicate file names\n",
    "df_cleaned = df.drop_duplicates(subset=['File Name'])\n",
    "\n",
    "# Save the cleaned DataFrame back to a CSV file\n",
    "output_csv_file = \"/data/Root_content/Vaani/audio_content_analysis/audio_analysis_all_group/audio_link_trancription_without_batching_all_removed_duplicates.csv\"  # Update with the desired output path\n",
    "df_cleaned.to_csv(output_csv_file, index=False)\n",
    "\n",
    "print(f\"Cleaned CSV file saved to: {output_csv_file}\")\n"
   ]
  },
  {
   "cell_type": "code",
   "execution_count": 7,
   "metadata": {},
   "outputs": [
    {
     "name": "stdout",
     "output_type": "stream",
     "text": [
      "                                                 File Name   Duration  \\\n",
      "0        https://vaani.iisc.ac.in/Audios/Sukma/IISc_Vaa...   4.100000   \n",
      "1        https://vaani.iisc.ac.in/Audios/Sukma/IISc_Vaa...   5.560000   \n",
      "2        https://vaani.iisc.ac.in/Audios/Sukma/IISc_Vaa...   9.192000   \n",
      "3        https://vaani.iisc.ac.in/Audios/Sukma/IISc_Vaa...   8.775000   \n",
      "4        https://vaani.iisc.ac.in/Audios/Sukma/IISc_Vaa...  12.440000   \n",
      "...                                                    ...        ...   \n",
      "6715229  https://vaani.iisc.ac.in/Audios/North24P/IISc_...   7.093312   \n",
      "6715230  https://vaani.iisc.ac.in/Audios/North24P/IISc_...   5.418687   \n",
      "6715231  https://vaani.iisc.ac.in/Audios/North24P/IISc_...   2.069313   \n",
      "6715232  https://vaani.iisc.ac.in/Audios/North24P/IISc_...   3.914687   \n",
      "6715233  https://vaani.iisc.ac.in/Audios/North24P/IISc_...   5.589313   \n",
      "\n",
      "         Byte Size                                      Transcription  \n",
      "0           132498  O E DEY WE TIO SO POR OMO A HAIR YOU SA ON A B...  \n",
      "1           179218  CUSH LOK WHO SEROU PAT CARE HO KET DE FRAHAR A...  \n",
      "2           295442  AONYCLOLITE ARCACHE DO MA DOLTDICTE BATIQI TO ...  \n",
      "3           282098  IS IMEN ME A MAN A CMARGET GO THE CADARA JOKI ...  \n",
      "4           399378  CANADA ETICHUBJIR IGITA ALONRA DIC DEACI THATR...  \n",
      "...            ...                                                ...  \n",
      "6715229     228284  IGI BORDON AGUED ON O VISTAL DI CANELASTE ONI ...  \n",
      "6715230     174696  O DE DI TOAT SHE TO CHECT OF WORKO THAT  MONE ...  \n",
      "6715231      67516                                  DIDELIGTI DE IVON  \n",
      "6715232     126568  DE MARKET WITET TO A CHARMAN MARKET DOL LOTTER...  \n",
      "6715233     180156                           DRONA GARDEN BORUMILI LI  \n",
      "\n",
      "[6715234 rows x 4 columns]\n"
     ]
    }
   ],
   "source": [
    "df = pd.read_csv('/data/Root_content/Vaani/audio_content_analysis/audio_analysis_all_group/audio_transcription_csv/audio_link_trancription_without_batching_all.csv')\n",
    "print(df)"
   ]
  },
  {
   "cell_type": "code",
   "execution_count": 6,
   "metadata": {},
   "outputs": [
    {
     "name": "stdout",
     "output_type": "stream",
     "text": [
      "                                                 File Name   Duration  \\\n",
      "0        https://vaani.iisc.ac.in/Audios/Sukma/IISc_Vaa...   4.100000   \n",
      "1        https://vaani.iisc.ac.in/Audios/Sukma/IISc_Vaa...   5.560000   \n",
      "2        https://vaani.iisc.ac.in/Audios/Sukma/IISc_Vaa...   9.192000   \n",
      "3        https://vaani.iisc.ac.in/Audios/Sukma/IISc_Vaa...   8.775000   \n",
      "4        https://vaani.iisc.ac.in/Audios/Sukma/IISc_Vaa...  12.440000   \n",
      "...                                                    ...        ...   \n",
      "5908590  https://vaani.iisc.ac.in/Audios/North24P/IISc_...   7.093312   \n",
      "5908591  https://vaani.iisc.ac.in/Audios/North24P/IISc_...   5.418687   \n",
      "5908592  https://vaani.iisc.ac.in/Audios/North24P/IISc_...   2.069313   \n",
      "5908593  https://vaani.iisc.ac.in/Audios/North24P/IISc_...   3.914687   \n",
      "5908594  https://vaani.iisc.ac.in/Audios/North24P/IISc_...   5.589313   \n",
      "\n",
      "         Byte Size                                      Transcription  \n",
      "0           132498  O E DEY WE TIO SO POR OMO A HAIR YOU SA ON A B...  \n",
      "1           179218  CUSH LOK WHO SEROU PAT CARE HO KET DE FRAHAR A...  \n",
      "2           295442  AONYCLOLITE ARCACHE DO MA DOLTDICTE BATIQI TO ...  \n",
      "3           282098  IS IMEN ME A MAN A CMARGET GO THE CADARA JOKI ...  \n",
      "4           399378  CANADA ETICHUBJIR IGITA ALONRA DIC DEACI THATR...  \n",
      "...            ...                                                ...  \n",
      "5908590     228284  IGI BORDON AGUED ON O VISTAL DI CANELASTE ONI ...  \n",
      "5908591     174696  O DE DI TOAT SHE TO CHECT OF WORKO THAT  MONE ...  \n",
      "5908592      67516                                  DIDELIGTI DE IVON  \n",
      "5908593     126568  DE MARKET WITET TO A CHARMAN MARKET DOL LOTTER...  \n",
      "5908594     180156                           DRONA GARDEN BORUMILI LI  \n",
      "\n",
      "[5908595 rows x 4 columns]\n"
     ]
    }
   ],
   "source": [
    "df = pd.read_csv('/data/Root_content/Vaani/audio_content_analysis/audio_analysis_all_group/audio_link_trancription_without_batching_all_removed_duplicates.csv')\n",
    "print(df)"
   ]
  },
  {
   "cell_type": "markdown",
   "metadata": {},
   "source": [
    "# split rows of the csv based on the group\n"
   ]
  },
  {
   "cell_type": "code",
   "execution_count": 8,
   "metadata": {},
   "outputs": [
    {
     "name": "stdout",
     "output_type": "stream",
     "text": [
      "CSV files created for each group.\n"
     ]
    }
   ],
   "source": [
    "import pandas as pd\n",
    "import os\n",
    "\n",
    "# Load the CSV file\n",
    "csv_file_path = '/data/Root_content/Vaani/audio_content_analysis/audio_analysis_all_group/audio_transcription_without_batch/audio_transcription_csv/audio_link_trancription_without_batching_all_removed_duplicates.csv'  # Replace with your file path\n",
    "df = pd.read_csv(csv_file_path)\n",
    "\n",
    "# Group by 'Byte Size' column\n",
    "grouped = df.groupby('Byte Size')\n",
    "\n",
    "# Create an output directory\n",
    "output_dir = '/data/Root_content/Vaani/audio_content_analysis/audio_analysis_all_group/audio_transcription_without_batch/csv_group_wise/'  # Replace with your output directory\n",
    "if not os.path.exists(output_dir):\n",
    "    os.makedirs(output_dir)\n",
    "\n",
    "# Save each group into a separate CSV file\n",
    "for byte_size, group in grouped:\n",
    "    if len(group) > 1:  # Only save if the group has more than one row\n",
    "        output_file = os.path.join(output_dir, f'group_{byte_size}.csv')\n",
    "        group.to_csv(output_file, index=False)\n",
    "\n",
    "print(\"CSV files created for each group.\")\n"
   ]
  },
  {
   "cell_type": "markdown",
   "metadata": {},
   "source": [
    "# apply the FAISS algo on all the groups"
   ]
  },
  {
   "cell_type": "code",
   "execution_count": null,
   "metadata": {},
   "outputs": [],
   "source": [
    "import os\n",
    "import pandas as pd\n",
    "import faiss\n",
    "from sentence_transformers import SentenceTransformer\n",
    "from langchain_community.vectorstores import FAISS\n",
    "from langchain_community.docstore.in_memory import InMemoryDocstore\n",
    "from langchain_core.documents import Document\n",
    "import numpy as np\n",
    "from tqdm import tqdm\n",
    "\n",
    "# Initialize the Sentence Transformer model\n",
    "model_name = \"sentence-transformers/all-mpnet-base-v2\"\n",
    "model = SentenceTransformer(model_name)\n",
    "\n",
    "# Define the input and output folder paths\n",
    "input_folder_path = \"/data/Root_content/Vaani/audio_content_analysis/audio_analysis_all_group/csv_group_wise\"\n",
    "output_folder_path = \"/data/Root_content/Vaani/audio_content_analysis/audio_analysis_all_group/csv_group_wise_similarity\"\n",
    "\n",
    "if not os.path.exists(output_folder_path):\n",
    "    os.makedirs(output_folder_path)\n",
    "\n",
    "# Loop through each CSV file in the input folder\n",
    "for csv_filename in tqdm(os.listdir(input_folder_path), desc= f\"Processing CSVs\"):\n",
    "    if csv_filename.endswith(\".csv\"):\n",
    "        # Construct the full path of the current CSV file\n",
    "        csv_file_path = os.path.join(input_folder_path, csv_filename)\n",
    "        \n",
    "        # Load the CSV file containing transcriptions\n",
    "        df = pd.read_csv(csv_file_path)\n",
    "        print(\"df length = \", len(df))\n",
    "        \n",
    "        # Check if 'Transcription' column exists in the CSV\n",
    "        if 'Transcription' not in df.columns:\n",
    "            print(f\"Skipping {csv_filename} as it does not contain 'Transcription' column.\")\n",
    "            continue\n",
    "        \n",
    "        # Generate embeddings for each transcription\n",
    "        df['Transcription'] = df['Transcription'].fillna('')\n",
    "        transcriptions = df['Transcription'].tolist()\n",
    "        filenames = df['File Name'].tolist()\n",
    "        embedding_vectors = model.encode(transcriptions)\n",
    "        \n",
    "        # Normalize embeddings to use cosine similarity\n",
    "        embedding_vectors = embedding_vectors / np.linalg.norm(embedding_vectors, axis=1, keepdims=True)\n",
    "        \n",
    "        # Initialize FAISS index for inner product (cosine similarity)\n",
    "        dimension = embedding_vectors.shape[1]\n",
    "        index = faiss.IndexFlatIP(dimension)\n",
    "        index.add(embedding_vectors)\n",
    "        \n",
    "        # Create a dictionary with filenames as keys and transcriptions as values\n",
    "        transcription_dict = {filename: transcription for filename, transcription in zip(filenames, transcriptions)}\n",
    "        \n",
    "        # Create a reverse dictionary to map transcriptions back to filenames\n",
    "        reverse_transcription_dict = {transcription: filename for filename, transcription in transcription_dict.items()}\n",
    "        \n",
    "        # Create a document store with filenames as keys\n",
    "        docstore = InMemoryDocstore({filename: Document(page_content=transcription) for filename, transcription in transcription_dict.items()})\n",
    "        index_to_docstore_id = {i: filename for i, filename in enumerate(filenames)}\n",
    "        \n",
    "        # Create FAISS vector store\n",
    "        vector_store = FAISS(\n",
    "            embedding_function=lambda x: model.encode(x),\n",
    "            index=index,\n",
    "            docstore=docstore,\n",
    "            index_to_docstore_id=index_to_docstore_id\n",
    "        )\n",
    "        \n",
    "        # Prepare a list to store results\n",
    "        results_list = []\n",
    "        \n",
    "        # Perform a similarity search for each transcription\n",
    "        for filename, query in transcription_dict.items():\n",
    "            try:\n",
    "                search_results = vector_store.similarity_search_with_score(query, k=2)  # k=2 to get top 2 similar transcriptions\n",
    "                \n",
    "                for res, score in search_results:\n",
    "                    # Extract the transcription from the result\n",
    "                    result_transcription = res.page_content\n",
    "                    \n",
    "                    # Use the reverse dictionary to get the filename for the result transcription\n",
    "                    result_filename = reverse_transcription_dict.get(result_transcription, None)\n",
    "                    \n",
    "                    if result_filename is None:\n",
    "                        print(f\"Result transcription not found in reverse dictionary: {result_transcription}\")\n",
    "                        continue\n",
    "                    \n",
    "                    if result_filename == filename:  # Skip the result of the query itself\n",
    "                        continue\n",
    "                    \n",
    "                    result_row = {\n",
    "                        \"Filename_1\": filename,\n",
    "                        \"Filename_2\": result_filename,\n",
    "                        \"Similarity_score\": round(score, 3)\n",
    "                    }\n",
    "                    results_list.append(result_row)\n",
    "            except Exception as e:\n",
    "                print(f\"Skipping file {filename} due to error: {e}\")\n",
    "        \n",
    "        # Save the results for the current CSV file\n",
    "        output_csv_filename = f\"similarity_results_{csv_filename.split('.')[0]}_size_{len(df)}.csv\"\n",
    "        output_csv_file_path = os.path.join(output_folder_path, output_csv_filename)\n",
    "        \n",
    "        results_df = pd.DataFrame(results_list)\n",
    "        results_df.to_csv(output_csv_file_path, index=False)\n",
    "\n",
    "        print(f\"Similarity results for {csv_filename} saved to {output_csv_file_path}.\")\n"
   ]
  },
  {
   "cell_type": "markdown",
   "metadata": {},
   "source": [
    "# remove the duplicates"
   ]
  },
  {
   "cell_type": "code",
   "execution_count": 1,
   "metadata": {},
   "outputs": [
    {
     "name": "stderr",
     "output_type": "stream",
     "text": [
      "100%|██████████| 67507/67507 [10:22<00:00, 108.42it/s]\n"
     ]
    }
   ],
   "source": [
    "import pandas as pd\n",
    "import os\n",
    "from tqdm import tqdm\n",
    "\n",
    "# Load the CSV file\n",
    "input_folder_path = '/data/Root_content/Vaani/audio_content_analysis/audio_analysis_all_group/audio_transcription_without_batch/csv_group_wise_similarity'\n",
    "output_folder_path = '/data/Root_content/Vaani/audio_content_analysis/audio_analysis_all_group/audio_transcription_without_batch/csv_group_wise_similarity_unique'\n",
    "\n",
    "if not os.path.exists(output_folder_path):\n",
    "    os.makedirs(output_folder_path)\n",
    "\n",
    "for csv_file in tqdm(os.listdir(input_folder_path)):\n",
    "\n",
    "    try:\n",
    "        file_path = os.path.join(input_folder_path, csv_file)\n",
    "        \n",
    "        df = pd.read_csv(file_path)\n",
    "\n",
    "        # Create a set to track unique pairs\n",
    "        unique_pairs = set()\n",
    "\n",
    "        # Function to create an unordered pair as a tuple\n",
    "        def make_pair(row):\n",
    "            return tuple(sorted([row['Filename_1'], row['Filename_2']]))\n",
    "\n",
    "        # Identify and remove duplicate pairs\n",
    "        filtered_rows = []\n",
    "        for _, row in df.iterrows():\n",
    "            pair = make_pair(row)\n",
    "            if pair not in unique_pairs:\n",
    "                unique_pairs.add(pair)\n",
    "                filtered_rows.append(row)\n",
    "\n",
    "        # Create a new DataFrame with the filtered rows\n",
    "        filtered_df = pd.DataFrame(filtered_rows)\n",
    "        output_file_path = os.path.join(output_folder_path, csv_file) \n",
    "        filtered_df.to_csv(output_file_path, index=False)\n",
    "    except Exception as e:\n",
    "        print(f\"Skipping file because of the error: {e}\")\n",
    "\n",
    "    # print(f\"Cleaned CSV saved to {output_file_path}\")\n"
   ]
  },
  {
   "cell_type": "markdown",
   "metadata": {},
   "source": [
    "# counting number of pairs with similarity score 1, >.95, >.9"
   ]
  },
  {
   "cell_type": "code",
   "execution_count": 2,
   "metadata": {},
   "outputs": [
    {
     "name": "stderr",
     "output_type": "stream",
     "text": [
      "  0%|          | 0/67507 [00:00<?, ?it/s]"
     ]
    },
    {
     "name": "stderr",
     "output_type": "stream",
     "text": [
      "100%|██████████| 67507/67507 [03:28<00:00, 323.23it/s]\n"
     ]
    },
    {
     "name": "stdout",
     "output_type": "stream",
     "text": [
      "Results saved to similarity_analysis.csv\n"
     ]
    }
   ],
   "source": [
    "import pandas as pd\n",
    "import os\n",
    "from tqdm import tqdm\n",
    "\n",
    "# Folder path containing the CSV files\n",
    "folder_path = '/data/Root_content/Vaani/audio_content_analysis/audio_analysis_all_group/audio_transcription_without_batch/csv_group_wise_similarity_unique'\n",
    "\n",
    "# List to store the results\n",
    "results = []\n",
    "\n",
    "# Loop through each file in the folder\n",
    "for filename in tqdm(os.listdir(folder_path)):\n",
    "    if filename.endswith(\".csv\"):\n",
    "        # Read the CSV file\n",
    "        file_path = os.path.join(folder_path, filename)\n",
    "        df = pd.read_csv(file_path)\n",
    "        \n",
    "        # Count the number of rows for each similarity score condition\n",
    "        count_exact_1 = df[df['Similarity_score'] == 1].shape[0]\n",
    "        count_95_to_1 = df[(df['Similarity_score'] >= 0.95) & (df['Similarity_score'] < 1)].shape[0]\n",
    "        count_90_to_95 = df[(df['Similarity_score'] >= 0.9) & (df['Similarity_score'] < 0.95)].shape[0]\n",
    "        count_80_to_90 = df[(df['Similarity_score'] >= 0.8) & (df['Similarity_score'] < 0.9)].shape[0]\n",
    "\n",
    "        group_name = '_'.join(filename.split('_')[2:]).split('.')[0]\n",
    "        byte_size = group_name.split('_')[1]\n",
    "        number_of_files_in_group = group_name.split('_')[3]\n",
    "        number_of_pairs_in_group = len(df)\n",
    "        #print(len(df))\n",
    "        \n",
    "        # Append the results to the list\n",
    "        results.append([group_name, byte_size, number_of_files_in_group, number_of_pairs_in_group, count_exact_1, count_95_to_1, count_90_to_95, count_80_to_90])\n",
    "\n",
    "# Create a DataFrame for the results\n",
    "results_df = pd.DataFrame(results, columns=['Group_name_size',\n",
    "                                            'Byte_size',\n",
    "                                            'Number of files',\n",
    "                                            'Number of pairs in similarity results',\n",
    "                                            'NO. of pairs with similarity score equals 1', \n",
    "                                            'NO. of pairs with 0.95 <= similarity score < 1', \n",
    "                                            'NO. of pairs with 0.9 <= similarity score < .95',\n",
    "                                            'NO. of pairs with 0.8 <= similarity score < .9'])\n",
    "\n",
    "# Save the results to a new CSV file\n",
    "output_file = 'similarity_analysis.csv'\n",
    "results_df.to_csv(output_file, index=False)\n",
    "\n",
    "print(f'Results saved to {output_file}')\n"
   ]
  },
  {
   "cell_type": "markdown",
   "metadata": {},
   "source": [
    "# plot between byte size and similarity score 1"
   ]
  },
  {
   "cell_type": "code",
   "execution_count": 3,
   "metadata": {},
   "outputs": [
    {
     "data": {
      "image/png": "[encoded data removed]",
      "text/plain": [
       "<Figure size 1000x600 with 1 Axes>"
      ]
     },
     "metadata": {},
     "output_type": "display_data"
    }
   ],
   "source": [
    "import pandas as pd\n",
    "import matplotlib.pyplot as plt\n",
    "\n",
    "df = pd.read_csv('/data/Root_content/Vaani/audio_content_analysis/audio_analysis_all_group/audio_transcription_without_batch/similarity_analysis.csv')\n",
    "\n",
    "plt.figure(figsize=(10,6))\n",
    "plt.scatter(df['Byte_size'], df['NO. of pairs with similarity score equals 1'])\n",
    "plt.title(\"Byte_size vs Similarity_score_1\")\n",
    "plt.xlabel(\"Byte_size\")\n",
    "plt.ylabel(\"No. of pairs with similarity equals 1\")\n",
    "plt.show()\n",
    "\n"
   ]
  },
  {
   "cell_type": "code",
   "execution_count": null,
   "metadata": {},
   "outputs": [],
   "source": []
  }
 ],
 "metadata": {
  "kernelspec": {
   "display_name": "pyannote",
   "language": "python",
   "name": "python3"
  },
  "language_info": {
   "codemirror_mode": {
    "name": "ipython",
    "version": 3
   },
   "file_extension": ".py",
   "mimetype": "text/x-python",
   "name": "python",
   "nbconvert_exporter": "python",
   "pygments_lexer": "ipython3",
   "version": "3.8.19"
  }
 },
 "nbformat": 4,
 "nbformat_minor": 2
}
