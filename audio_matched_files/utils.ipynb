{
 "cells": [
  {
   "cell_type": "code",
   "execution_count": null,
   "metadata": {},
   "outputs": [],
   "source": [
    "import os\n",
    "import shutil\n",
    "import pandas as pd\n",
    "\n",
    "# Load the TSV file into a DataFrame\n",
    "df = pd.read_csv('/data1/manual_qc_references/utils/ref_audiomatch/audio_match_allAudios_megdap_2024-06-03_spkrSize.tsv', sep='\\t')\n",
    "\n",
    "# Specify the destination directory\n",
    "destination_dir = '/data1/manual_qc_references/utils/ref_audiomatch/audio_matched_files/files'\n",
    "\n",
    "# Create the destination directory if it doesn't exist\n",
    "os.makedirs(destination_dir, exist_ok=True)\n",
    "\n",
    "# Iterate over each row in the DataFrame\n",
    "for index, row in df.iterrows():\n",
    "    # Get the file paths from the first and second columns\n",
    "    file1 = row['file1']\n",
    "    file2 = row['file2']\n",
    "    \n",
    "    # Copy the files to the destination directory\n",
    "    shutil.copy(file1, destination_dir)\n",
    "    shutil.copy(file2, destination_dir)\n",
    "\n",
    "print(\"Files copied successfully!\")\n"
   ]
  },
  {
   "cell_type": "code",
   "execution_count": null,
   "metadata": {},
   "outputs": [],
   "source": []
  }
 ],
 "metadata": {
  "language_info": {
   "name": "python"
  }
 },
 "nbformat": 4,
 "nbformat_minor": 2
}
